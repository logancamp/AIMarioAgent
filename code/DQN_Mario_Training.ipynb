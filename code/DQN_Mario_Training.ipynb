{
  "cells": [
    {
      "attachments": {},
      "cell_type": "markdown",
      "metadata": {
        "id": "VuuXo0sR7ktv"
      },
      "source": [
        "# DQN Mario Training #"
      ]
    },
    {
      "attachments": {},
      "cell_type": "markdown",
      "metadata": {
        "id": "XRT_Pk9N7kty"
      },
      "source": [
        "DQN ...... add in some info on the algorith"
      ]
    },
    {
      "cell_type": "markdown",
      "metadata": {
        "id": "gPpOWf-g7kty"
      },
      "source": [
        "### Set-Up ###"
      ]
    },
    {
      "cell_type": "markdown",
      "metadata": {
        "id": "g7pb4_a27ktz"
      },
      "source": [
        "Installs *"
      ]
    },
    {
      "cell_type": "code",
      "execution_count": null,
      "metadata": {
        "id": "QLUETlWk7ktz"
      },
      "outputs": [],
      "source": [
        "#install the game and nes_py\n",
        "%pip install gym_super_mario_bros==7.3.0 nes_py\n",
        "\n",
        "#install pytorch first to run on GPU\n",
        "%pip install torch torchvision torchaudio --index-url https://download.pytorch.org/whl/cu118\n",
        "\n",
        "#fixes issues with installing stable-baseline\n",
        "%pip install setuptools==65.5.0\n",
        "\n",
        "#install stable-baseline for algos... etc.\n",
        "%pip install stable-baselines3[extra]"
      ]
    },
    {
      "cell_type": "markdown",
      "metadata": {
        "id": "JfumSmR07kt0"
      },
      "source": [
        "Imports *"
      ]
    },
    {
      "cell_type": "code",
      "execution_count": null,
      "metadata": {
        "id": "uyNdlMtU7kt0"
      },
      "outputs": [],
      "source": [
        "#Import Game\n",
        "import gym_super_mario_bros\n",
        "\n",
        "#Import Joypad (basically gives access to a virtual controller)\n",
        "from nes_py.wrappers import JoypadSpace\n",
        "\n",
        "#Use SIMPLE Controls (setting type of actions available)\n",
        "from gym_super_mario_bros.actions import SIMPLE_MOVEMENT\n",
        "\n",
        "#Import wrapper for grayscaling\n",
        "from gym.wrappers import GrayScaleObservation\n",
        "\n",
        "#Import wrappers for vectorization\n",
        "from stable_baselines3.common.vec_env import VecFrameStack, DummyVecEnv\n",
        "\n",
        "#Import matplotlib to show the impact of frame stacking\n",
        "from matplotlib import pyplot as plt\n",
        "\n",
        "#os for file maintnance\n",
        "import os\n",
        "\n",
        "#PPO algo\n",
        "from stable_baselines3 import DQN\n",
        "\n",
        "#Base Callback for saving models\n",
        "from stable_baselines3.common.callbacks import BaseCallback"
      ]
    },
    {
      "cell_type": "markdown",
      "metadata": {
        "id": "ECOUnTtl7kt1"
      },
      "source": [
        "See Actions"
      ]
    },
    {
      "cell_type": "code",
      "execution_count": null,
      "metadata": {
        "id": "DnrI44U07kt1"
      },
      "outputs": [],
      "source": [
        "#list of possible actions (will change if you are not using simple movement)\n",
        "SIMPLE_MOVEMENT"
      ]
    },
    {
      "cell_type": "markdown",
      "metadata": {
        "id": "a_qX66IR7kt2"
      },
      "source": [
        "### Preprocessing Environment ###"
      ]
    },
    {
      "cell_type": "code",
      "execution_count": null,
      "metadata": {
        "id": "mttTfwGU7kt3"
      },
      "outputs": [],
      "source": [
        "#create base environment\n",
        "env = gym_super_mario_bros.make('SuperMarioBros-v0')\n",
        "env = JoypadSpace(env, SIMPLE_MOVEMENT)\n",
        "\n",
        "#apply grayscale\n",
        "env = GrayScaleObservation(env, keep_dim=True)\n",
        "\n",
        "#wrap in dummy environment\n",
        "env = DummyVecEnv([lambda: env])\n",
        "\n",
        "#stack frames\n",
        "env = VecFrameStack(env, 4, channels_order='last')"
      ]
    },
    {
      "cell_type": "markdown",
      "metadata": {
        "id": "mQ4nnMKp7kt3"
      },
      "source": [
        "### Training Setup ###"
      ]
    },
    {
      "cell_type": "markdown",
      "metadata": {
        "id": "2qc4DEtW7kt3"
      },
      "source": [
        "  Saving Model Class *"
      ]
    },
    {
      "cell_type": "code",
      "execution_count": null,
      "metadata": {
        "id": "dZ23TuQU7kt3"
      },
      "outputs": [],
      "source": [
        "class TrainAndLoggingCallback(BaseCallback):\n",
        "\n",
        "    def __init__(self, check_freq, save_path, verbose=1):\n",
        "        super(TrainAndLoggingCallback, self).__init__(verbose)\n",
        "        self.check_freq = check_freq\n",
        "        self.save_path = save_path\n",
        "\n",
        "    def _init_callback(self):\n",
        "        if self.save_path is not None:\n",
        "            os.makedirs(self.save_path, exist_ok=True)\n",
        "\n",
        "    def _on_step(self):\n",
        "        if self.n_calls % self.check_freq == 0:\n",
        "            model_path = os.path.join(self.save_path, 'best_model_{}'.format(self.n_calls))\n",
        "            self.model.save(model_path)\n",
        "\n",
        "        return True"
      ]
    },
    {
      "cell_type": "markdown",
      "metadata": {
        "id": "FIHiVgfm7kt4"
      },
      "source": [
        "Model And Saving Setup *"
      ]
    },
    {
      "cell_type": "code",
      "execution_count": null,
      "metadata": {
        "id": "gAw5Q3koVqkf"
      },
      "outputs": [],
      "source": [
        "TIME_STEPS = 10000 #trainging timestep amount\n",
        "SAVE_STEPS = 10000 #how often will a save occur? If SAVE_STEPS = TIME_STEPS only save when finished"
      ]
    },
    {
      "cell_type": "code",
      "execution_count": null,
      "metadata": {
        "id": "GuJs1tQ87kt4"
      },
      "outputs": [],
      "source": [
        "#pathing for data logs\n",
        "CHECKPOINT_DIR = '' #logged models and different training points\n",
        "LOG_DIR = '' #tensor board for info on the model\n",
        "\n",
        "#setup model saving callback\n",
        "#check_freq = the amount of iterations between saves (watch storage)\n",
        "callback = TrainAndLoggingCallback(check_freq=SAVE_STEPS, save_path=CHECKPOINT_DIR)\n",
        "\n",
        "#creates the neural network and the AI itself (CnnPolicy is best for image processing)\n",
        "model = DQN('CnnPolicy', env, verbose=1, tensorboard_log=LOG_DIR, buffer_size=100, learning_rate=0.000001)"
      ]
    },
    {
      "cell_type": "markdown",
      "metadata": {
        "id": "s2VxYW8S7kt4"
      },
      "source": [
        "# Training * #"
      ]
    },
    {
      "cell_type": "markdown",
      "metadata": {
        "id": "hHZehn6FH_W3"
      },
      "source": [
        "(if you'd like to continue training alother model run the next step first, if not skip next step)"
      ]
    },
    {
      "cell_type": "code",
      "execution_count": null,
      "metadata": {
        "id": "slHy-Z_gH-vZ"
      },
      "outputs": [],
      "source": [
        "from stable_baselines3.dqn.dqn import DQN\n",
        "#load in model to train SKIP IF TRAINING A NEW MODEL\n",
        "#select model to train\n",
        "model_path = '' #type model path as a string here\n",
        "\n",
        "#load model\n",
        "model = DQN.load(model_path)\n",
        "\n",
        "#set the environment\n",
        "model.set_env(env)\n",
        "\n",
        "#train the model so it can learn\n",
        "#total_timesteps = how many iterations you want to trian for (should be put in the millions)\n",
        "model.learn(total_timesteps=TIME_STEPS, callback=callback, reset_num_timesteps=False)"
      ]
    },
    {
      "cell_type": "markdown",
      "metadata": {
        "id": "Dl11_YKKPcTE"
      },
      "source": [
        "(normal training here)\n",
        "\n"
      ]
    },
    {
      "cell_type": "code",
      "execution_count": null,
      "metadata": {
        "id": "dPUgDz-s7kt4"
      },
      "outputs": [],
      "source": [
        "#train the model so it can learn\n",
        "#total_timesteps = how many iterations you want to trian for (should be put in the millions)\n",
        "model.learn(total_timesteps=TIME_STEPS, callback=callback)"
      ]
    },
    {
      "cell_type": "markdown",
      "metadata": {
        "id": "ylK6XGG57kt4"
      },
      "source": [
        "  (manual save model)"
      ]
    },
    {
      "cell_type": "code",
      "execution_count": null,
      "metadata": {
        "id": "_wAP606V7kt5"
      },
      "outputs": [],
      "source": [
        "#manual save of the model just run at any iteration\n",
        "model.save('DQN_manual_save')"
      ]
    }
  ],
  "metadata": {
    "accelerator": "GPU",
    "colab": {
      "private_outputs": true,
      "provenance": []
    },
    "gpuClass": "standard",
    "kernelspec": {
      "display_name": "Python 3",
      "language": "python",
      "name": "python3"
    },
    "language_info": {
      "codemirror_mode": {
        "name": "ipython",
        "version": 3
      },
      "file_extension": ".py",
      "mimetype": "text/x-python",
      "name": "python",
      "nbconvert_exporter": "python",
      "pygments_lexer": "ipython3",
      "version": "3.9.13"
    },
    "orig_nbformat": 4
  },
  "nbformat": 4,
  "nbformat_minor": 0
}
