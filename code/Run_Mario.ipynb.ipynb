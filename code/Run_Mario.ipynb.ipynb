{
 "cells": [
  {
   "attachments": {},
   "cell_type": "markdown",
   "metadata": {},
   "source": [
    "# Run PPO Mario #"
   ]
  },
  {
   "attachments": {},
   "cell_type": "markdown",
   "metadata": {},
   "source": [
    "## Installs and Imports ###"
   ]
  },
  {
   "attachments": {},
   "cell_type": "markdown",
   "metadata": {},
   "source": [
    "### Installs *"
   ]
  },
  {
   "cell_type": "code",
   "execution_count": null,
   "metadata": {},
   "outputs": [],
   "source": [
    "#install the game and nes_py\n",
    "%pip install gym_super_mario_bros nes_py\n",
    "\n",
    "#install pytorch first to run on GPU\n",
    "%pip install torch torchvision torchaudio --index-url https://download.pytorch.org/whl/cu118\n",
    "\n",
    "#install stable-baseline for algos... etc.\n",
    "%pip install stable-baselines3[extra]"
   ]
  },
  {
   "attachments": {},
   "cell_type": "markdown",
   "metadata": {},
   "source": [
    "### Imports *"
   ]
  },
  {
   "cell_type": "code",
   "execution_count": null,
   "metadata": {},
   "outputs": [],
   "source": [
    "#Import Game\n",
    "import gym_super_mario_bros\n",
    "\n",
    "#Import Joypad (basically gives access to a virtual controller)\n",
    "from nes_py.wrappers import JoypadSpace\n",
    "\n",
    "#Use SIMPLE Controls (setting type of actions available)\n",
    "from gym_super_mario_bros.actions import SIMPLE_MOVEMENT\n",
    "\n",
    "#Import wrapper for grayscaling\n",
    "from gym.wrappers import GrayScaleObservation\n",
    "\n",
    "#Import wrappers for vectorization\n",
    "from stable_baselines3.common.vec_env import VecFrameStack, DummyVecEnv\n",
    "\n",
    "#Import matplotlib to show the impact of frame stacking\n",
    "from matplotlib import pyplot as plt\n",
    "\n",
    "#os for file maintnance\n",
    "import os\n",
    "\n",
    "#PPO algo\n",
    "from stable_baselines3 import A2C, PPO\n",
    "\n",
    "#Base Callback for saving models\n",
    "from stable_baselines3.common.callbacks import BaseCallback\n",
    "\n",
    "#time to delay display and math for checjing distance\n",
    "import time\n",
    "from statistics import mean"
   ]
  },
  {
   "attachments": {},
   "cell_type": "markdown",
   "metadata": {},
   "source": [
    "## Start The Game And Render Untrained Mario ###"
   ]
  },
  {
   "attachments": {},
   "cell_type": "markdown",
   "metadata": {},
   "source": [
    "Start the game and you will see Mario taking random movements until he dies. This is the computer playing mario without any training. (sourced from youtube tutorial)"
   ]
  },
  {
   "cell_type": "code",
   "execution_count": null,
   "metadata": {},
   "outputs": [],
   "source": [
    "#sets which environment (v0, v1... etc) is being used\n",
    "env = gym_super_mario_bros.make('SuperMarioBros-v0')\n",
    "env = JoypadSpace(env, SIMPLE_MOVEMENT)\n",
    "\n",
    "#flag for restart\n",
    "done = True\n",
    "#loop through each frame of the game\n",
    "for step in range(100000):\n",
    "  if done:\n",
    "    env.reset()\n",
    "  #take a random action for the current \"step\" and recieve state, reward and done (dead of not)\n",
    "  state, reward, done, info = env.step(env.action_space.sample())\n",
    "  #show game on screen\n",
    "  env.render()\n",
    "#end/close game\n",
    "env.close()"
   ]
  },
  {
   "attachments": {},
   "cell_type": "markdown",
   "metadata": {},
   "source": [
    "    (if on close the window stays running run the following line of code)"
   ]
  },
  {
   "cell_type": "code",
   "execution_count": null,
   "metadata": {},
   "outputs": [],
   "source": [
    "env.close()"
   ]
  },
  {
   "attachments": {},
   "cell_type": "markdown",
   "metadata": {},
   "source": [
    "## Start The Game And Render Trained Mario"
   ]
  },
  {
   "attachments": {},
   "cell_type": "markdown",
   "metadata": {},
   "source": [
    "### Setup *"
   ]
  },
  {
   "attachments": {},
   "cell_type": "markdown",
   "metadata": {},
   "source": [
    "Create and Process Environment"
   ]
  },
  {
   "cell_type": "code",
   "execution_count": null,
   "metadata": {},
   "outputs": [],
   "source": [
    "#create base environment: sets which environment (v0, v1... etc) is being used\n",
    "env = gym_super_mario_bros.make('SuperMarioBros-v0')\n",
    "env = JoypadSpace(env, SIMPLE_MOVEMENT)\n",
    "\n",
    "#apply grayscale\n",
    "env = GrayScaleObservation(env, keep_dim=True)\n",
    "\n",
    "#wrap in dummy environment\n",
    "env = DummyVecEnv([lambda: env])\n",
    "\n",
    "#stack frames\n",
    "env = VecFrameStack(env, 4, channels_order='last')"
   ]
  },
  {
   "attachments": {},
   "cell_type": "markdown",
   "metadata": {},
   "source": [
    "PPO"
   ]
  },
  {
   "cell_type": "code",
   "execution_count": null,
   "metadata": {},
   "outputs": [],
   "source": [
    "#10thousand\n",
    "#select model to run\n",
    "model_path = '' #type model path as a string here\n",
    "\n",
    "#load model\n",
    "model = PPO.load(model_path)"
   ]
  },
  {
   "cell_type": "code",
   "execution_count": null,
   "metadata": {},
   "outputs": [],
   "source": [
    "#100thousand\n",
    "#select model to run\n",
    "model_path = '' #type model path as a string here\n",
    "\n",
    "#load model\n",
    "model = PPO.load(model_path)"
   ]
  },
  {
   "cell_type": "code",
   "execution_count": null,
   "metadata": {},
   "outputs": [],
   "source": [
    "#500thousand\n",
    "#select model to run\n",
    "model_path = '' #type model path as a string here\n",
    "\n",
    "#load model\n",
    "model = PPO.load(model_path)"
   ]
  },
  {
   "cell_type": "code",
   "execution_count": null,
   "metadata": {},
   "outputs": [],
   "source": [
    "#1mill\n",
    "#select model to run\n",
    "model_path = '' #type model path as a string here\n",
    "\n",
    "#load model\n",
    "model = PPO.load(model_path)"
   ]
  },
  {
   "cell_type": "code",
   "execution_count": null,
   "metadata": {},
   "outputs": [],
   "source": [
    "#2mill\n",
    "#select model to run\n",
    "model_path = '' #type model path as a string here\n",
    "\n",
    "#load model\n",
    "model = PPO.load(model_path)"
   ]
  },
  {
   "cell_type": "code",
   "execution_count": null,
   "metadata": {},
   "outputs": [],
   "source": [
    "#10mill\n",
    "#select model to run\n",
    "model_path = '' #type model path as a string here\n",
    "\n",
    "#load model\n",
    "model = PPO.load(model_path)"
   ]
  },
  {
   "cell_type": "code",
   "execution_count": null,
   "metadata": {},
   "outputs": [],
   "source": [
    "#7mill\n",
    "#select model to run\n",
    "model_path = '' #type model path as a string here\n",
    "\n",
    "#load model\n",
    "model = PPO.load(model_path)"
   ]
  },
  {
   "attachments": {},
   "cell_type": "markdown",
   "metadata": {},
   "source": [
    "A2C"
   ]
  },
  {
   "cell_type": "code",
   "execution_count": null,
   "metadata": {},
   "outputs": [],
   "source": [
    "#A2C - 3.2mill Thomas\n",
    "#select model to run\n",
    "model_path = '' #type model path as a string here\n",
    "\n",
    "#load model\n",
    "model = A2C.load(model_path)"
   ]
  },
  {
   "cell_type": "code",
   "execution_count": null,
   "metadata": {},
   "outputs": [],
   "source": [
    "#A2C - 3.6mill Ibrahim\n",
    "#select model to run\n",
    "model_path = '' #type model path as a string here\n",
    "\n",
    "#load model\n",
    "model = A2C.load(model_path)"
   ]
  },
  {
   "cell_type": "code",
   "execution_count": null,
   "metadata": {},
   "outputs": [],
   "source": [
    "#A2C - 3.7mill Ibrahim\n",
    "#select model to run\n",
    "model_path = '' #type model path as a string here\n",
    "\n",
    "#load model\n",
    "model = A2C.load(model_path)"
   ]
  },
  {
   "cell_type": "code",
   "execution_count": null,
   "metadata": {},
   "outputs": [],
   "source": [
    "#A2C - 6mill Ibrahim\n",
    "#select model to run\n",
    "model_path = '' #type model path as a string here\n",
    "\n",
    "#load model\n",
    "model = A2C.load(model_path)"
   ]
  },
  {
   "attachments": {},
   "cell_type": "markdown",
   "metadata": {},
   "source": [
    "YV Update"
   ]
  },
  {
   "cell_type": "code",
   "execution_count": null,
   "metadata": {},
   "outputs": [],
   "source": [
    "#YV 2mill\n",
    "#select model to run\n",
    "model_path = '' #type model path as a string here\n",
    "\n",
    "#load model\n",
    "model = PPO.load(model_path)"
   ]
  },
  {
   "cell_type": "code",
   "execution_count": null,
   "metadata": {},
   "outputs": [],
   "source": [
    "#YV 7mill\n",
    "#select model to run\n",
    "model_path = '' #type model path as a string here\n",
    "\n",
    "#load model\n",
    "model = PPO.load(model_path)"
   ]
  },
  {
   "attachments": {},
   "cell_type": "markdown",
   "metadata": {},
   "source": [
    "### Run Trained Game"
   ]
  },
  {
   "attachments": {},
   "cell_type": "markdown",
   "metadata": {},
   "source": [
    "run infinite (sourced from youtube tutorial)"
   ]
  },
  {
   "cell_type": "code",
   "execution_count": null,
   "metadata": {},
   "outputs": [],
   "source": [
    "time.sleep(1)\n",
    "state = env.reset()\n",
    "while True:\n",
    "    action, _ = model.predict(state)\n",
    "    state, reward, done, info = env.step(action)\n",
    "    env.render()"
   ]
  },
  {
   "attachments": {},
   "cell_type": "markdown",
   "metadata": {},
   "source": [
    "run for comparison"
   ]
  },
  {
   "cell_type": "code",
   "execution_count": null,
   "metadata": {},
   "outputs": [],
   "source": [
    "time.sleep(1)\n",
    "state = env.reset()\n",
    "action, _ = model.predict(state)\n",
    "state, reward, done, info = env.step(action)\n",
    "\n",
    "x_range = []\n",
    "xt_range = {}\n",
    "comp_level = []\n",
    "life = info[0][\"life\"]\n",
    "\n",
    "while len(x_range)<50: #while x_range is less than a number for our test trials\n",
    "    action, _ = model.predict(state)\n",
    "    state, reward, done, info = env.step(action)\n",
    "    if info[0][\"life\"]<life:\n",
    "        x_range.append(info[0][\"x_pos\"])\n",
    "        xt_range[info[0][\"x_pos\"]] = (info[0][\"time\"], info[0][\"flag_get\"])\n",
    "        if info[0][\"flag_get\"] == True:\n",
    "            comp_level.append(info[0][\"time\"])\n",
    "    life = info[0][\"life\"]\n",
    "    print(f\"file: {len(x_range)}\")\n",
    "    env.render()"
   ]
  },
  {
   "attachments": {},
   "cell_type": "markdown",
   "metadata": {},
   "source": [
    "    (if on close the window stays running run the following line of code)"
   ]
  },
  {
   "cell_type": "code",
   "execution_count": 22,
   "metadata": {},
   "outputs": [],
   "source": [
    "env.close()"
   ]
  },
  {
   "attachments": {},
   "cell_type": "markdown",
   "metadata": {},
   "source": [
    "find statistics"
   ]
  },
  {
   "cell_type": "code",
   "execution_count": null,
   "metadata": {},
   "outputs": [],
   "source": [
    "print(f\"Num Deaths: {len(x_range)}\")\n",
    "print(f\"Mean Distance: {mean(x_range)}\")\n",
    "print(f\"Max Distance: {max(x_range)}\")\n",
    "print(f\"Max X Time: {xt_range[max(x_range)]}\")\n",
    "print(f\"All X Time: {xt_range}\")\n",
    "print(f\"Completion Times: {comp_level}\") #time upon completion"
   ]
  }
 ],
 "metadata": {
  "kernelspec": {
   "display_name": "Python 3",
   "language": "python",
   "name": "python3"
  },
  "language_info": {
   "codemirror_mode": {
    "name": "ipython",
    "version": 3
   },
   "file_extension": ".py",
   "mimetype": "text/x-python",
   "name": "python",
   "nbconvert_exporter": "python",
   "pygments_lexer": "ipython3",
   "version": "3.9.13"
  },
  "orig_nbformat": 4
 },
 "nbformat": 4,
 "nbformat_minor": 2
}
